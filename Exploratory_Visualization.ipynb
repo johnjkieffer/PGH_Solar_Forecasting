{
 "cells": [
  {
   "cell_type": "code",
   "execution_count": 43,
   "metadata": {},
   "outputs": [],
   "source": [
    "import numpy as np\n",
    "import pandas as pd\n",
    "import os\n",
    "import math\n",
    "from datetime import date\n",
    "import pickle\n",
    "from matplotlib import pyplot as plt\n",
    "import seaborn as sns"
   ]
  },
  {
   "cell_type": "markdown",
   "metadata": {},
   "source": [
    "# RUN THIS CODE AT THE BEGINNING OF A SESSION IN WHICH THE DATAFRAMES WILL BE USED:"
   ]
  },
  {
   "cell_type": "code",
   "execution_count": 65,
   "metadata": {},
   "outputs": [],
   "source": [
    "with open('./PITdf.pkl','rb') as f:\n",
    "    PITdf = pickle.load(f)\n",
    "with open('./GREdf.pkl','rb') as f:\n",
    "    GREdf = pickle.load(f)\n",
    "with open('./JONdf.pkl','rb') as f:\n",
    "    JONdf = pickle.load(f)\n",
    "with open('./MGTdf.pkl','rb') as f:\n",
    "    MGTdf = pickle.load(f)\n",
    "with open('./WASdf.pkl','rb') as f:\n",
    "    WASdf = pickle.load(f)\n",
    "with open('./WHLdf.pkl','rb') as f:\n",
    "    WHLdf = pickle.load(f)\n",
    "with open('./PKSdf.pkl','rb') as f:\n",
    "    PKSdf = pickle.load(f)\n",
    "with open('./CBGdf.pkl','rb') as f:\n",
    "    CBGdf = pickle.load(f)\n",
    "with open('./STUdf.pkl','rb') as f:\n",
    "    STUdf = pickle.load(f)\n",
    "with open('./NPHdf.pkl','rb') as f:\n",
    "    NPHdf = pickle.load(f)\n",
    "with open('./ELVdf.pkl','rb') as f:\n",
    "    ELVdf = pickle.load(f)\n",
    "with open('./YGTdf.pkl','rb') as f:\n",
    "    YGTdf = pickle.load(f)\n",
    "with open('./NCSdf.pkl','rb') as f:\n",
    "    NCSdf = pickle.load(f)\n",
    "with open('./BUTdf.pkl','rb') as f:\n",
    "    BUTdf = pickle.load(f)\n",
    "with open('./KITdf.pkl','rb') as f:\n",
    "    KITdf = pickle.load(f)"
   ]
  },
  {
   "cell_type": "code",
   "execution_count": 68,
   "metadata": {},
   "outputs": [
    {
     "ename": "AttributeError",
     "evalue": "module 'seaborn' has no attribute 'plot'",
     "output_type": "error",
     "traceback": [
      "\u001b[0;31m---------------------------------------------------------------------------\u001b[0m",
      "\u001b[0;31mAttributeError\u001b[0m                            Traceback (most recent call last)",
      "\u001b[0;32m<ipython-input-68-75e43581693d>\u001b[0m in \u001b[0;36m<module>\u001b[0;34m\u001b[0m\n\u001b[0;32m----> 1\u001b[0;31m \u001b[0max\u001b[0m \u001b[0;34m=\u001b[0m \u001b[0msns\u001b[0m\u001b[0;34m.\u001b[0m\u001b[0mplot\u001b[0m\u001b[0;34m(\u001b[0m\u001b[0mx\u001b[0m \u001b[0;34m=\u001b[0m \u001b[0;34m'DNI'\u001b[0m\u001b[0;34m,\u001b[0m \u001b[0my\u001b[0m \u001b[0;34m=\u001b[0m \u001b[0;34m'cloudiness_factor'\u001b[0m\u001b[0;34m,\u001b[0m \u001b[0malpha\u001b[0m \u001b[0;34m=\u001b[0m \u001b[0;36m0.01\u001b[0m\u001b[0;34m,\u001b[0m \u001b[0mlinewidth\u001b[0m \u001b[0;34m=\u001b[0m \u001b[0;36m0\u001b[0m\u001b[0;34m,\u001b[0m \u001b[0mdata\u001b[0m \u001b[0;34m=\u001b[0m \u001b[0mPITdf\u001b[0m\u001b[0;34m)\u001b[0m\u001b[0;34m\u001b[0m\u001b[0;34m\u001b[0m\u001b[0m\n\u001b[0m",
      "\u001b[0;31mAttributeError\u001b[0m: module 'seaborn' has no attribute 'plot'"
     ]
    }
   ],
   "source": [
    "ax = sns.plot(x = 'DNI', y = 'cloudiness_factor', alpha = 0.01, linewidth = 0, data = PITdf)"
   ]
  },
  {
   "cell_type": "code",
   "execution_count": 66,
   "metadata": {},
   "outputs": [
    {
     "name": "stdout",
     "output_type": "stream",
     "text": [
      "    Year  Month  Day  Hour  Minute    DNI  Wind Speed  Wind Direction  \\\n",
      "0   1998      1    1     0       0    0.0         0.6           241.0   \n",
      "1   1998      1    1     0      30    0.0         0.6           241.0   \n",
      "2   1998      1    1     1       0    0.0         0.6           238.0   \n",
      "3   1998      1    1     1      30    0.0         0.6           238.0   \n",
      "4   1998      1    1     2       0    0.0         0.6           225.8   \n",
      "5   1998      1    1     2      30    0.0         0.5           225.8   \n",
      "6   1998      1    1     3       0    0.0         0.5           214.4   \n",
      "7   1998      1    1     3      30    0.0         0.5           214.4   \n",
      "8   1998      1    1     4       0    0.0         0.5           203.6   \n",
      "9   1998      1    1     4      30    0.0         0.5           203.6   \n",
      "10  1998      1    1     5       0    0.0         0.6           195.2   \n",
      "11  1998      1    1     5      30    0.0         0.6           195.2   \n",
      "12  1998      1    1     6       0    0.0         0.6           195.1   \n",
      "13  1998      1    1     6      30    0.0         0.6           195.1   \n",
      "14  1998      1    1     7       0    0.0         0.6           194.0   \n",
      "15  1998      1    1     7      30    0.0         0.5           194.0   \n",
      "16  1998      1    1     8       0  159.0         0.5           195.3   \n",
      "17  1998      1    1     8      30    0.0         0.6           195.3   \n",
      "18  1998      1    1     9       0  580.0         0.7           206.7   \n",
      "19  1998      1    1     9      30  167.0         0.8           206.7   \n",
      "\n",
      "      wind_x    wind_y     day_x     day_y    time_x        time_y  \\\n",
      "0  -0.524772 -0.290886  0.017213  0.999852  0.000000  1.000000e+00   \n",
      "1  -0.524772 -0.290886  0.017213  0.999852  0.130526  9.914449e-01   \n",
      "2  -0.508829 -0.317952  0.017213  0.999852  0.258819  9.659258e-01   \n",
      "3  -0.508829 -0.317952  0.017213  0.999852  0.382683  9.238795e-01   \n",
      "4  -0.430146 -0.418299  0.017213  0.999852  0.500000  8.660254e-01   \n",
      "5  -0.358455 -0.348583  0.017213  0.999852  0.608761  7.933533e-01   \n",
      "6  -0.282484 -0.412557  0.017213  0.999852  0.707107  7.071068e-01   \n",
      "7  -0.282484 -0.412557  0.017213  0.999852  0.793353  6.087614e-01   \n",
      "8  -0.200175 -0.458181  0.017213  0.999852  0.866025  5.000000e-01   \n",
      "9  -0.200175 -0.458181  0.017213  0.999852  0.923880  3.826834e-01   \n",
      "10 -0.157314 -0.579010  0.017213  0.999852  0.965926  2.588190e-01   \n",
      "11 -0.157314 -0.579010  0.017213  0.999852  0.991445  1.305262e-01   \n",
      "12 -0.156303 -0.579284  0.017213  0.999852  1.000000  6.123234e-17   \n",
      "13 -0.156303 -0.579284  0.017213  0.999852  0.991445 -1.305262e-01   \n",
      "14 -0.145153 -0.582177  0.017213  0.999852  0.965926 -2.588190e-01   \n",
      "15 -0.120961 -0.485148  0.017213  0.999852  0.923880 -3.826834e-01   \n",
      "16 -0.131937 -0.482279  0.017213  0.999852  0.866025 -5.000000e-01   \n",
      "17 -0.158324 -0.578734  0.017213  0.999852  0.793353 -6.087614e-01   \n",
      "18 -0.314523 -0.625360  0.017213  0.999852  0.707107 -7.071068e-01   \n",
      "19 -0.359455 -0.714697  0.017213  0.999852  0.608761 -7.933533e-01   \n",
      "\n",
      "    max_possible_DNI  cloudiness_factor  \n",
      "0                0.0           0.773816  \n",
      "1                0.0           0.020232  \n",
      "2                0.0           0.551991  \n",
      "3                0.0           0.019842  \n",
      "4                0.0           0.924428  \n",
      "5                0.0           0.194648  \n",
      "6                0.0           0.357955  \n",
      "7                0.0           0.884121  \n",
      "8                0.0           0.048041  \n",
      "9                0.0           0.182811  \n",
      "10               0.0           0.927700  \n",
      "11               0.0           0.400925  \n",
      "12               0.0           0.966675  \n",
      "13               0.0           0.397877  \n",
      "14               0.0           0.486904  \n",
      "15               0.0           0.324451  \n",
      "16             277.0           0.425993  \n",
      "17             536.0           1.000000  \n",
      "18             675.0           0.140741  \n",
      "19             779.0           0.785623  \n"
     ]
    }
   ],
   "source": [
    "print(PITdf.head(20))"
   ]
  },
  {
   "cell_type": "code",
   "execution_count": null,
   "metadata": {},
   "outputs": [],
   "source": []
  }
 ],
 "metadata": {
  "kernelspec": {
   "display_name": "Python 3",
   "language": "python",
   "name": "python3"
  },
  "language_info": {
   "codemirror_mode": {
    "name": "ipython",
    "version": 3
   },
   "file_extension": ".py",
   "mimetype": "text/x-python",
   "name": "python",
   "nbconvert_exporter": "python",
   "pygments_lexer": "ipython3",
   "version": "3.7.6"
  }
 },
 "nbformat": 4,
 "nbformat_minor": 4
}
