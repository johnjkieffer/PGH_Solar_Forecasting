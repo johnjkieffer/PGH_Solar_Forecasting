{
 "cells": [
  {
   "cell_type": "code",
   "execution_count": 94,
   "metadata": {},
   "outputs": [],
   "source": [
    "from torch import nn, optim\n",
    "\n",
    "import seaborn as sns\n",
    "import numpy as np\n",
    "import pandas as pd\n",
    "import matplotlib.pyplot as plt\n",
    "import pickle\n",
    "from sklearn.model_selection import train_test_split\n",
    "from sklearn.preprocessing import MinMaxScaler\n",
    "import torch.nn.functional as F\n",
    "%matplotlib inline"
   ]
  },
  {
   "cell_type": "code",
   "execution_count": null,
   "metadata": {},
   "outputs": [],
   "source": []
  },
  {
   "cell_type": "code",
   "execution_count": 69,
   "metadata": {},
   "outputs": [],
   "source": [
    "with open('./PITdf.pkl','rb') as f:\n",
    "    PITdf = pickle.load(f)\n",
    "with open('./GREdf.pkl','rb') as f:\n",
    "    GREdf = pickle.load(f)\n",
    "with open('./JONdf.pkl','rb') as f:\n",
    "    JONdf = pickle.load(f)\n",
    "with open('./MGTdf.pkl','rb') as f:\n",
    "    MGTdf = pickle.load(f)\n",
    "with open('./WASdf.pkl','rb') as f:\n",
    "    WASdf = pickle.load(f)\n",
    "with open('./WHLdf.pkl','rb') as f:\n",
    "    WHLdf = pickle.load(f)\n",
    "with open('./PKSdf.pkl','rb') as f:\n",
    "    PKSdf = pickle.load(f)\n",
    "with open('./CBGdf.pkl','rb') as f:\n",
    "    CBGdf = pickle.load(f)\n",
    "with open('./STUdf.pkl','rb') as f:\n",
    "    STUdf = pickle.load(f)\n",
    "with open('./NPHdf.pkl','rb') as f:\n",
    "    NPHdf = pickle.load(f)\n",
    "with open('./ELVdf.pkl','rb') as f:\n",
    "    ELVdf = pickle.load(f)\n",
    "with open('./YGTdf.pkl','rb') as f:\n",
    "    YGTdf = pickle.load(f)\n",
    "with open('./NCSdf.pkl','rb') as f:\n",
    "    NCSdf = pickle.load(f)\n",
    "with open('./BUTdf.pkl','rb') as f:\n",
    "    BUTdf = pickle.load(f)\n",
    "with open('./KITdf.pkl','rb') as f:\n",
    "    KITdf = pickle.load(f)"
   ]
  },
  {
   "cell_type": "code",
   "execution_count": 71,
   "metadata": {},
   "outputs": [
    {
     "name": "stdout",
     "output_type": "stream",
     "text": [
      "   Year  Month  Day  Hour  Minute  DNI  Wind Speed  Wind Direction    wind_x  \\\n",
      "0  1998      1    1     0       0  0.0         0.6           241.0 -0.524772   \n",
      "1  1998      1    1     0      30  0.0         0.6           241.0 -0.524772   \n",
      "2  1998      1    1     1       0  0.0         0.6           238.0 -0.508829   \n",
      "3  1998      1    1     1      30  0.0         0.6           238.0 -0.508829   \n",
      "4  1998      1    1     2       0  0.0         0.6           225.8 -0.430146   \n",
      "\n",
      "     wind_y     day_x     day_y    time_x    time_y  max_possible_DNI  \\\n",
      "0 -0.290886  0.017213  0.999852  0.000000  1.000000               0.0   \n",
      "1 -0.290886  0.017213  0.999852  0.130526  0.991445               0.0   \n",
      "2 -0.317952  0.017213  0.999852  0.258819  0.965926               0.0   \n",
      "3 -0.317952  0.017213  0.999852  0.382683  0.923880               0.0   \n",
      "4 -0.418299  0.017213  0.999852  0.500000  0.866025               0.0   \n",
      "\n",
      "   cloudiness_factor  \n",
      "0           0.773816  \n",
      "1           0.020232  \n",
      "2           0.551991  \n",
      "3           0.019842  \n",
      "4           0.924428  \n"
     ]
    }
   ],
   "source": [
    "print(PITdf.head())"
   ]
  },
  {
   "cell_type": "markdown",
   "metadata": {},
   "source": [
    "In this attempt, I will use only the DNI from PGH plus the 6 closest cities (PIT, BUT, GRE, WAS, WHL, STU, ELV). The shape of this data will have each column be the DNI from a different city. The rows will be measurement instances."
   ]
  },
  {
   "cell_type": "code",
   "execution_count": 72,
   "metadata": {},
   "outputs": [
    {
     "data": {
      "text/plain": [
       "(367920, 6)"
      ]
     },
     "execution_count": 72,
     "metadata": {},
     "output_type": "execute_result"
    }
   ],
   "source": [
    "all_data = np.concatenate((PITdf['DNI'].values.reshape(-1,1), BUTdf['DNI'].values.reshape(-1,1), \\\n",
    "                           GREdf['DNI'].values.reshape(-1,1), ELVdf['DNI'].values.reshape(-1,1), \\\n",
    "                           WHLdf['DNI'].values.reshape(-1,1), STUdf['DNI'].values.reshape(-1,1), ),axis = 1)\n",
    "all_data.shape"
   ]
  },
  {
   "cell_type": "markdown",
   "metadata": {},
   "source": [
    "For training purposes, I will use 5 years of data for training and 1 for testing. I will take this data from the first 6 years of data."
   ]
  },
  {
   "cell_type": "code",
   "execution_count": 148,
   "metadata": {},
   "outputs": [
    {
     "data": {
      "text/plain": [
       "(87600, 6)"
      ]
     },
     "execution_count": 148,
     "metadata": {},
     "output_type": "execute_result"
    }
   ],
   "source": [
    "test_length = 365 * 48 * 1\n",
    "train_length = 365 * 48 * 5\n",
    "all_data = all_data[:(train_length + test_length), :]\n",
    "all_data.shape\n"
   ]
  },
  {
   "cell_type": "markdown",
   "metadata": {},
   "source": [
    "I will now split the data into inputs and targets. My inputs will be the 6-dim data from time step t-1 and the target will be the DNI from PIT at time t"
   ]
  },
  {
   "cell_type": "code",
   "execution_count": 146,
   "metadata": {},
   "outputs": [
    {
     "name": "stdout",
     "output_type": "stream",
     "text": [
      "[[334. 825. 181. 842. 849. 843.]\n",
      " [844. 840. 340. 856. 864. 857.]\n",
      " [832. 827. 829. 843. 852. 845.]\n",
      " [825. 817. 827. 404. 838. 829.]\n",
      " [790. 782. 793. 793. 805. 795.]\n",
      " [746. 738. 753. 749. 759. 751.]\n",
      " [672. 663. 678. 677. 688. 680.]\n",
      " [570. 557. 573. 578. 588. 582.]\n",
      " [388. 371. 386. 404. 419. 410.]\n",
      " [  0.   0.   0.   0.   0.   0.]]\n",
      "[844. 832. 825. 790. 746. 672. 570. 388.   0.   0.]\n"
     ]
    }
   ],
   "source": [
    "inputs = all_data[:-1,:]\n",
    "targets = all_data[1:,0]\n",
    "print(inputs[25:35,:])\n",
    "print(targets[25:35])"
   ]
  },
  {
   "cell_type": "markdown",
   "metadata": {},
   "source": [
    "I will now split the data into training and testing sets."
   ]
  },
  {
   "cell_type": "code",
   "execution_count": 150,
   "metadata": {},
   "outputs": [
    {
     "name": "stdout",
     "output_type": "stream",
     "text": [
      "(87599, 6) (87599,)\n",
      "(0, 6) (0,)\n",
      "[[746. 738. 753. 749. 759. 751.]\n",
      " [672. 663. 678. 677. 688. 680.]\n",
      " [570. 557. 573. 578. 588. 582.]\n",
      " [388. 371. 386. 404. 419. 410.]\n",
      " [  0.   0.   0.   0.   0.   0.]] [672. 570. 388.   0.   0.]\n"
     ]
    }
   ],
   "source": [
    "X_train = inputs[:train_length,:]\n",
    "y_train = targets[:train_length]\n",
    "\n",
    "X_test = inputs[train_length:,:]\n",
    "y_test = targets[train_length:]\n",
    "\n",
    "print(X_train.shape, y_train.shape)\n",
    "print(X_test.shape, y_test.shape)\n",
    "print(X_train[30:35,:], y_train[30:35])"
   ]
  },
  {
   "cell_type": "markdown",
   "metadata": {},
   "source": [
    "Normaize input between 0 and 1"
   ]
  },
  {
   "cell_type": "code",
   "execution_count": 151,
   "metadata": {},
   "outputs": [],
   "source": [
    "scaler = MinMaxScaler()\n",
    "\n",
    "X_train_normalized = scaler.fit(X_train)\n",
    "\n",
    "X_train_normalized = scaler.transform(X_train)\n",
    "\n"
   ]
  },
  {
   "cell_type": "code",
   "execution_count": null,
   "metadata": {},
   "outputs": [],
   "source": [
    "\n",
    "\n"
   ]
  },
  {
   "cell_type": "markdown",
   "metadata": {},
   "source": [
    "Convert np.array to tensor"
   ]
  },
  {
   "cell_type": "code",
   "execution_count": 152,
   "metadata": {},
   "outputs": [
    {
     "name": "stdout",
     "output_type": "stream",
     "text": [
      "torch.Size([87599, 6]) torch.Size([87599])\n",
      "torch.Size([0, 6]) torch.Size([0])\n"
     ]
    }
   ],
   "source": [
    "X_train_normalized = torch.from_numpy(X_train_normalized).float()\n",
    "y_train = torch.squeeze(torch.from_numpy(y_train).float())\n",
    "\n",
    "X_test = torch.from_numpy(X_test).float()\n",
    "y_test = torch.squeeze(torch.from_numpy(y_test).float())\n",
    "\n",
    "print(X_train_normalized.shape, y_train.shape)\n",
    "print(X_test.shape, y_test.shape)\n"
   ]
  },
  {
   "cell_type": "markdown",
   "metadata": {},
   "source": []
  },
  {
   "cell_type": "code",
   "execution_count": 118,
   "metadata": {},
   "outputs": [],
   "source": []
  },
  {
   "cell_type": "markdown",
   "metadata": {},
   "source": [
    "Now I will attempt to build a class defining a FFNN"
   ]
  },
  {
   "cell_type": "code",
   "execution_count": 153,
   "metadata": {},
   "outputs": [],
   "source": [
    "class Net(torch.nn.Module):\n",
    "    def __init__(self, n_features):\n",
    "        super(Net, self).__init__()\n",
    "        self.fc1 = nn.Linear(n_features, 100)\n",
    "        self.fc2 = nn.Linear(100, 100)\n",
    "        self.fc3 = nn.Linear(100, 1)\n",
    "\n",
    "        \n",
    "    def forward(self, x):\n",
    "        x = F.relu(self.fc1(x))\n",
    "        x = F.relu(self.fc2(x))\n",
    "        return F.relu(self.fc3(x))\n",
    "net = Net(X_train.shape[1])"
   ]
  },
  {
   "cell_type": "code",
   "execution_count": 154,
   "metadata": {},
   "outputs": [],
   "source": [
    "\n",
    "criterion = nn.MSELoss()\n",
    "optimizer = optim.Adam(net.parameters(), lr = 0.01)\n"
   ]
  },
  {
   "cell_type": "code",
   "execution_count": null,
   "metadata": {},
   "outputs": [],
   "source": []
  },
  {
   "cell_type": "code",
   "execution_count": 155,
   "metadata": {},
   "outputs": [
    {
     "name": "stdout",
     "output_type": "stream",
     "text": [
      "tensor(117719.4766, grad_fn=<MseLossBackward>)\n",
      "tensor(12065.2549, grad_fn=<MseLossBackward>)\n",
      "tensor(11835.0371, grad_fn=<MseLossBackward>)\n",
      "tensor(11729.2266, grad_fn=<MseLossBackward>)\n",
      "tensor(11699.1367, grad_fn=<MseLossBackward>)\n",
      "tensor(11693.2529, grad_fn=<MseLossBackward>)\n",
      "tensor(11689.8467, grad_fn=<MseLossBackward>)\n",
      "tensor(11685.6787, grad_fn=<MseLossBackward>)\n",
      "tensor(11681.0693, grad_fn=<MseLossBackward>)\n",
      "tensor(11676.3818, grad_fn=<MseLossBackward>)\n"
     ]
    }
   ],
   "source": [
    "for epoch in range(1000):\n",
    "    \n",
    "    y_pred = net(X_train_normalized)\n",
    "    \n",
    "    y_pred = torch.squeeze(y_pred)\n",
    "    train_loss = criterion(y_pred, y_train)\n",
    "    \n",
    "    if epoch % 100 == 0:\n",
    "        print(train_loss)\n",
    "    \n",
    "    optimizer.zero_grad()\n",
    "    \n",
    "    train_loss.backward()\n",
    "    \n",
    "    optimizer.step()"
   ]
  },
  {
   "cell_type": "code",
   "execution_count": 183,
   "metadata": {},
   "outputs": [
    {
     "name": "stdout",
     "output_type": "stream",
     "text": [
      "(87599,)\n",
      "(87599,)\n"
     ]
    },
    {
     "data": {
      "text/plain": [
       "(array([2.0000e+01, 1.3300e+02, 6.8300e+02, 3.0120e+03, 6.3500e+04,\n",
       "        1.5266e+04, 4.0180e+03, 7.9200e+02, 1.5500e+02, 2.0000e+01]),\n",
       " array([-881.72614   , -705.5662    , -529.40625   , -353.24634   ,\n",
       "        -177.08641   ,   -0.92648315,  175.23344   ,  351.39337   ,\n",
       "         527.5533    ,  703.71326   ,  879.87317   ], dtype=float32),\n",
       " <a list of 10 Patch objects>)"
      ]
     },
     "execution_count": 183,
     "metadata": {},
     "output_type": "execute_result"
    },
    {
     "data": {
      "image/png": "[encoded data removed]",
      "text/plain": [
       "<Figure size 432x288 with 1 Axes>"
      ]
     },
     "metadata": {
      "needs_background": "light"
     },
     "output_type": "display_data"
    }
   ],
   "source": [
    "y_pred = net(X_train_normalized)\n",
    "y_pred_np = y_pred.detach().numpy()[:,0]\n",
    "y_train_np = y_train.detach().numpy()\n",
    "print(y_pred_np.shape)\n",
    "print(y_train_np.shape)\n",
    "err = np.subtract(y_train_np, y_pred_np)\n",
    "plt.hist(err)\n",
    "\n"
   ]
  },
  {
   "cell_type": "code",
   "execution_count": null,
   "metadata": {},
   "outputs": [],
   "source": [
    "plt.scatter"
   ]
  }
 ],
 "metadata": {
  "kernelspec": {
   "display_name": "Python 3",
   "language": "python",
   "name": "python3"
  },
  "language_info": {
   "codemirror_mode": {
    "name": "ipython",
    "version": 3
   },
   "file_extension": ".py",
   "mimetype": "text/x-python",
   "name": "python",
   "nbconvert_exporter": "python",
   "pygments_lexer": "ipython3",
   "version": "3.7.6"
  }
 },
 "nbformat": 4,
 "nbformat_minor": 4
}
